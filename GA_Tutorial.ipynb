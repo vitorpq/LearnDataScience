{
  "nbformat": 4,
  "nbformat_minor": 0,
  "metadata": {
    "colab": {
      "name": "GA-Tutorial.ipynb",
      "provenance": [],
      "authorship_tag": "ABX9TyPNDwmejNYXNvnkgGZPqRhX",
      "include_colab_link": true
    },
    "kernelspec": {
      "name": "python3",
      "display_name": "Python 3"
    }
  },
  "cells": [
    {
      "cell_type": "markdown",
      "metadata": {
        "id": "view-in-github",
        "colab_type": "text"
      },
      "source": [
        "<a href=\"https://colab.research.google.com/github/vitorpq/LearnDataScience/blob/master/GA_Tutorial.ipynb\" target=\"_parent\"><img src=\"https://colab.research.google.com/assets/colab-badge.svg\" alt=\"Open In Colab\"/></a>"
      ]
    },
    {
      "cell_type": "markdown",
      "metadata": {
        "id": "rHaVMSx8ECfA"
      },
      "source": [
        "# **Parte 01**"
      ]
    },
    {
      "cell_type": "markdown",
      "metadata": {
        "id": "hV3vOaehMB3L"
      },
      "source": [
        "Problema de seleção de atributos \r\n",
        "\r\n",
        "O dataset tem 413 instâncias ou linhas e 18937 atributos\r\n",
        "\r\n",
        "(Fonte: https://www.openml.org/d/1122)"
      ]
    },
    {
      "cell_type": "markdown",
      "metadata": {
        "id": "1UqaVzMsFOQe"
      },
      "source": [
        "## Importar as bibliotecas"
      ]
    },
    {
      "cell_type": "code",
      "metadata": {
        "id": "3mfN5s7eD-tb"
      },
      "source": [
        "import numpy as np\r\n",
        "import pandas as pd\r\n",
        "import random\r\n",
        "#import matplotlib.pyplot\r\n",
        "#%matplotlib inline\r\n",
        "from sklearn.datasets import load_breast_cancer\r\n",
        "from sklearn.model_selection import train_test_split\r\n",
        "from sklearn.linear_model import LogisticRegression\r\n",
        "from sklearn.metrics import accuracy_score\r\n",
        "from sklearn.datasets import load_breast_cancer\r\n",
        "# Preprocessing\r\n",
        "from sklearn import preprocessing"
      ],
      "execution_count": 18,
      "outputs": []
    },
    {
      "cell_type": "markdown",
      "metadata": {
        "id": "lo6_a8M2Luws"
      },
      "source": [
        "## Carregar Dataset"
      ]
    },
    {
      "cell_type": "code",
      "metadata": {
        "colab": {
          "base_uri": "https://localhost:8080/"
        },
        "id": "yBLsQNAZEXJ2",
        "outputId": "96665b07-d127-49d0-a405-693c72c8da72"
      },
      "source": [
        "#import the breast cancer dataset \r\n",
        "cancer=load_breast_cancer()\r\n",
        "df = pd.DataFrame(cancer['data'],columns=cancer['feature_names'])\r\n",
        "label=cancer[\"target\"]\r\n",
        "\r\n",
        "# \r\n",
        "#splitting the model into training and testing set\r\n",
        "X_train, X_test, y_train, y_test = train_test_split(df, \r\n",
        "                                                    label, test_size=0.30, \r\n",
        "                                                    random_state=101)\r\n",
        "scaler = preprocessing.StandardScaler().fit(X_train)\r\n",
        "X_sc_Train = scaler.transform(X_train)\r\n",
        "scaler = preprocessing.StandardScaler().fit(X_test)\r\n",
        "X_sc_Test = scaler.transform(X_test)\r\n",
        "print(X_test)"
      ],
      "execution_count": 28,
      "outputs": [
        {
          "output_type": "stream",
          "text": [
            "     mean radius  mean texture  ...  worst symmetry  worst fractal dimension\n",
            "107        12.36         18.54  ...          0.2983                  0.07185\n",
            "437        14.04         15.98  ...          0.2725                  0.07234\n",
            "195        12.91         16.33  ...          0.3024                  0.06949\n",
            "141        16.11         18.05  ...          0.2792                  0.08158\n",
            "319        12.43         17.00  ...          0.1901                  0.05932\n",
            "..           ...           ...  ...             ...                      ...\n",
            "420        11.57         19.04  ...          0.3035                  0.08284\n",
            "279        13.85         15.18  ...          0.2955                  0.06912\n",
            "390        10.26         12.22  ...          0.2937                  0.07722\n",
            "91         15.37         22.76  ...          0.2556                  0.06828\n",
            "297        11.76         18.14  ...          0.1978                  0.06915\n",
            "\n",
            "[171 rows x 30 columns]\n"
          ],
          "name": "stdout"
        }
      ]
    },
    {
      "cell_type": "markdown",
      "metadata": {
        "id": "Uw6ATY65Uco2"
      },
      "source": [
        "## Treinamento usando Regressão Logística"
      ]
    },
    {
      "cell_type": "code",
      "metadata": {
        "colab": {
          "base_uri": "https://localhost:8080/"
        },
        "id": "h5aP-7YNUhbg",
        "outputId": "6bf55191-4357-4ac5-eb0b-43ef37bd6ccd"
      },
      "source": [
        "#training a logistics regression model\r\n",
        "logmodel = LogisticRegression(max_iter=5000)\r\n",
        "logmodel.fit(X_sc_Train,y_train)\r\n",
        "predictions = logmodel.predict(X_sc_Test)\r\n",
        "print(\"Accuracy = \"+ str(accuracy_score(y_test,predictions)))"
      ],
      "execution_count": 62,
      "outputs": [
        {
          "output_type": "stream",
          "text": [
            "Accuracy = 0.9824561403508771\n"
          ],
          "name": "stdout"
        }
      ]
    },
    {
      "cell_type": "markdown",
      "metadata": {
        "id": "vjNa1UgMUlPH"
      },
      "source": [
        "## GA"
      ]
    },
    {
      "cell_type": "markdown",
      "metadata": {
        "id": "ZRqx9EWZUogH"
      },
      "source": [
        "Now, let’s include a genetic algorithm in the process:\r\n",
        "Defining all the steps required to follow during Genetic algorithm."
      ]
    },
    {
      "cell_type": "code",
      "metadata": {
        "id": "oqa-f_1iUnSj"
      },
      "source": [
        "#defining various steps required for the genetic algorithm\r\n",
        "def initilization_of_population(size,n_feat):\r\n",
        "    population = []\r\n",
        "    for i in range(size):\r\n",
        "        chromosome = np.ones(n_feat,dtype=np.bool)\r\n",
        "        chromosome[:int(0.3*n_feat)]=False\r\n",
        "        np.random.shuffle(chromosome)\r\n",
        "        population.append(chromosome)\r\n",
        "    return population\r\n",
        "\r\n",
        "def fitness_score(population):\r\n",
        "    scores = []\r\n",
        "    for chromosome in population:\r\n",
        "        logmodel.fit(X_train.iloc[:,chromosome],y_train)\r\n",
        "        predictions = logmodel.predict(X_test.iloc[:,chromosome])\r\n",
        "        scores.append(accuracy_score(y_test,predictions))\r\n",
        "    scores, population = np.array(scores), np.array(population) \r\n",
        "    inds = np.argsort(scores)\r\n",
        "    return list(scores[inds][::-1]), list(population[inds,:][::-1])\r\n",
        "\r\n",
        "def selection(pop_after_fit,n_parents):\r\n",
        "    population_nextgen = []\r\n",
        "    for i in range(n_parents):\r\n",
        "        population_nextgen.append(pop_after_fit[i])\r\n",
        "    return population_nextgen\r\n",
        "\r\n",
        "def crossover(pop_after_sel):\r\n",
        "    population_nextgen=pop_after_sel\r\n",
        "    for i in range(len(pop_after_sel)):\r\n",
        "        child=pop_after_sel[i]\r\n",
        "        child[3:7]=pop_after_sel[(i+1)%len(pop_after_sel)][3:7]\r\n",
        "        population_nextgen.append(child)\r\n",
        "    return population_nextgen\r\n",
        "\r\n",
        "def mutation(pop_after_cross,mutation_rate):\r\n",
        "    population_nextgen = []\r\n",
        "    for i in range(0,len(pop_after_cross)):\r\n",
        "        chromosome = pop_after_cross[i]\r\n",
        "        for j in range(len(chromosome)):\r\n",
        "            if random.random() < mutation_rate:\r\n",
        "                chromosome[j]= not chromosome[j]\r\n",
        "        population_nextgen.append(chromosome)\r\n",
        "    #print(population_nextgen)\r\n",
        "    return population_nextgen\r\n",
        "\r\n",
        "def generations(size,n_feat,n_parents,mutation_rate,n_gen,Xtrain,\r\n",
        "                                   Xtest, y_train, y_test):\r\n",
        "    best_chromo= []\r\n",
        "    best_score= []\r\n",
        "    population_nextgen=initilization_of_population(size,n_feat)\r\n",
        "    for i in range(n_gen):\r\n",
        "        scores, pop_after_fit = fitness_score(population_nextgen)\r\n",
        "        print(scores[:2])\r\n",
        "        pop_after_sel = selection(pop_after_fit,n_parents)\r\n",
        "        pop_after_cross = crossover(pop_after_sel)\r\n",
        "        population_nextgen = mutation(pop_after_cross,mutation_rate)\r\n",
        "        best_chromo.append(pop_after_fit[0])\r\n",
        "        best_score.append(scores[0])\r\n",
        "    return best_chromo,best_score"
      ],
      "execution_count": 63,
      "outputs": []
    },
    {
      "cell_type": "code",
      "metadata": {
        "colab": {
          "base_uri": "https://localhost:8080/"
        },
        "id": "P8K4cyoSWslo",
        "outputId": "3e75aa97-d2fd-4788-dcc4-a974cf6c4ba0"
      },
      "source": [
        "chromo,score=generations(size=200,n_feat=30,n_parents=100,mutation_rate=0.10,\r\n",
        "                     n_gen=38,Xtrain=X_sc_Train,Xtest=X_sc_Test,y_train=y_train,y_test=y_test)"
      ],
      "execution_count": 64,
      "outputs": [
        {
          "output_type": "stream",
          "text": [
            "[0.9473684210526315, 0.9473684210526315]\n",
            "[0.9473684210526315, 0.9473684210526315]\n",
            "[0.9473684210526315, 0.9473684210526315]\n",
            "[0.9473684210526315, 0.9473684210526315]\n",
            "[0.9590643274853801, 0.9590643274853801]\n",
            "[0.9473684210526315, 0.9473684210526315]\n",
            "[0.9473684210526315, 0.9473684210526315]\n",
            "[0.9473684210526315, 0.9473684210526315]\n",
            "[0.9473684210526315, 0.9473684210526315]\n",
            "[0.9473684210526315, 0.9473684210526315]\n",
            "[0.9473684210526315, 0.9473684210526315]\n",
            "[0.9532163742690059, 0.9532163742690059]\n",
            "[0.9532163742690059, 0.9532163742690059]\n",
            "[0.9532163742690059, 0.9532163742690059]\n",
            "[0.9532163742690059, 0.9532163742690059]\n",
            "[0.9473684210526315, 0.9473684210526315]\n",
            "[0.9532163742690059, 0.9532163742690059]\n",
            "[0.9532163742690059, 0.9532163742690059]\n",
            "[0.9473684210526315, 0.9473684210526315]\n",
            "[0.9473684210526315, 0.9473684210526315]\n",
            "[0.9532163742690059, 0.9532163742690059]\n",
            "[0.9473684210526315, 0.9473684210526315]\n",
            "[0.9473684210526315, 0.9473684210526315]\n",
            "[0.9473684210526315, 0.9473684210526315]\n",
            "[0.9473684210526315, 0.9473684210526315]\n",
            "[0.9473684210526315, 0.9473684210526315]\n",
            "[0.9473684210526315, 0.9473684210526315]\n",
            "[0.9473684210526315, 0.9473684210526315]\n",
            "[0.9532163742690059, 0.9532163742690059]\n",
            "[0.9532163742690059, 0.9532163742690059]\n",
            "[0.9473684210526315, 0.9473684210526315]\n",
            "[0.9473684210526315, 0.9473684210526315]\n",
            "[0.9473684210526315, 0.9473684210526315]\n",
            "[0.9473684210526315, 0.9473684210526315]\n",
            "[0.9473684210526315, 0.9473684210526315]\n",
            "[0.9473684210526315, 0.9473684210526315]\n",
            "[0.9473684210526315, 0.9473684210526315]\n",
            "[0.9473684210526315, 0.9473684210526315]\n"
          ],
          "name": "stdout"
        }
      ]
    },
    {
      "cell_type": "code",
      "metadata": {
        "colab": {
          "base_uri": "https://localhost:8080/",
          "height": 198
        },
        "id": "68GN5xvqwjCI",
        "outputId": "c4a1284a-3571-48a5-9e72-43133712b7b1"
      },
      "source": [
        "logmodel.fit(X_train.iloc[:,chromo[-1]],y_train)\r\n",
        "predictions = logmodel.predict(X_test.iloc[:,chromo[-1]])\r\n",
        "print(\"Accuracy score after genetic algorithm is= \"+str(accuracy_score(y_test,predictions)))"
      ],
      "execution_count": 1,
      "outputs": [
        {
          "output_type": "error",
          "ename": "NameError",
          "evalue": "ignored",
          "traceback": [
            "\u001b[0;31m---------------------------------------------------------------------------\u001b[0m",
            "\u001b[0;31mNameError\u001b[0m                                 Traceback (most recent call last)",
            "\u001b[0;32m<ipython-input-1-9e88c0a1cce1>\u001b[0m in \u001b[0;36m<module>\u001b[0;34m()\u001b[0m\n\u001b[0;32m----> 1\u001b[0;31m \u001b[0mlogmodel\u001b[0m\u001b[0;34m.\u001b[0m\u001b[0mfit\u001b[0m\u001b[0;34m(\u001b[0m\u001b[0mX_train\u001b[0m\u001b[0;34m.\u001b[0m\u001b[0miloc\u001b[0m\u001b[0;34m[\u001b[0m\u001b[0;34m:\u001b[0m\u001b[0;34m,\u001b[0m\u001b[0mchromo\u001b[0m\u001b[0;34m[\u001b[0m\u001b[0;34m-\u001b[0m\u001b[0;36m1\u001b[0m\u001b[0;34m]\u001b[0m\u001b[0;34m]\u001b[0m\u001b[0;34m,\u001b[0m\u001b[0my_train\u001b[0m\u001b[0;34m)\u001b[0m\u001b[0;34m\u001b[0m\u001b[0;34m\u001b[0m\u001b[0m\n\u001b[0m\u001b[1;32m      2\u001b[0m \u001b[0mpredictions\u001b[0m \u001b[0;34m=\u001b[0m \u001b[0mlogmodel\u001b[0m\u001b[0;34m.\u001b[0m\u001b[0mpredict\u001b[0m\u001b[0;34m(\u001b[0m\u001b[0mX_test\u001b[0m\u001b[0;34m.\u001b[0m\u001b[0miloc\u001b[0m\u001b[0;34m[\u001b[0m\u001b[0;34m:\u001b[0m\u001b[0;34m,\u001b[0m\u001b[0mchromo\u001b[0m\u001b[0;34m[\u001b[0m\u001b[0;34m-\u001b[0m\u001b[0;36m1\u001b[0m\u001b[0;34m]\u001b[0m\u001b[0;34m]\u001b[0m\u001b[0;34m)\u001b[0m\u001b[0;34m\u001b[0m\u001b[0;34m\u001b[0m\u001b[0m\n\u001b[1;32m      3\u001b[0m \u001b[0mprint\u001b[0m\u001b[0;34m(\u001b[0m\u001b[0;34m\"Accuracy score after genetic algorithm is= \"\u001b[0m\u001b[0;34m+\u001b[0m\u001b[0mstr\u001b[0m\u001b[0;34m(\u001b[0m\u001b[0maccuracy_score\u001b[0m\u001b[0;34m(\u001b[0m\u001b[0my_test\u001b[0m\u001b[0;34m,\u001b[0m\u001b[0mpredictions\u001b[0m\u001b[0;34m)\u001b[0m\u001b[0;34m)\u001b[0m\u001b[0;34m)\u001b[0m\u001b[0;34m\u001b[0m\u001b[0;34m\u001b[0m\u001b[0m\n",
            "\u001b[0;31mNameError\u001b[0m: name 'logmodel' is not defined"
          ]
        }
      ]
    }
  ]
}